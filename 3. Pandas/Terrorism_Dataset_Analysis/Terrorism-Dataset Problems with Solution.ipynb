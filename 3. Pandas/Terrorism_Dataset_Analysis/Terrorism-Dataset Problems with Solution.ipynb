{
 "cells": [
  {
   "cell_type": "markdown",
   "id": "5ea23e25",
   "metadata": {},
   "source": [
    "Given file \"terrorismData.csv\" is an open-source database including information on terrorist attacks around the world from 1970 through 2017. This dataset includes systematic data on domestic as well as international terrorist incidents that have occurred during this time period"
   ]
  },
  {
   "cell_type": "markdown",
   "id": "5e34ffb1",
   "metadata": {},
   "source": [
    "Problem Statement 1:  \n",
    "The Most Dangerous city in Jammu and Kashmir and the terrorist group which is most active in that city?  \n",
    "Print count of number of attacks in that city as integer value.  \n",
    "Note: Ignoring the Unknown Terrorist Group.  \n",
    "Here Dangerous related with the number of terrorist attacks."
   ]
  },
  {
   "cell_type": "code",
   "execution_count": 1,
   "id": "a878537e",
   "metadata": {},
   "outputs": [
    {
     "name": "stdout",
     "output_type": "stream",
     "text": [
      "Srinagar 657 Muslim Separatists\n"
     ]
    }
   ],
   "source": [
    "import pandas as pd\n",
    "\n",
    "df = pd.read_csv('terrorismData.csv')\n",
    "\n",
    "df = df[df['Country'] == \"India\"]\n",
    "city = df['City'].value_counts()\n",
    "\n",
    "print(city.index[0],city.values[0],end=' ')\n",
    "\n",
    "group = df[df['City']==city.index[0]]\n",
    "unique_group = group['Group'].value_counts()\n",
    "group_max_attacks = next((i for i in unique_group.index if i != \"Unknown\"), None)\n",
    "\n",
    "print(group_max_attacks)"
   ]
  },
  {
   "cell_type": "markdown",
   "id": "667193dc",
   "metadata": {},
   "source": [
    "Problem Statement 2:  \n",
    "There was formation of new government in India on 26 May 2014. So current government's span is from 26th May 2014 to current. Find out two things from this period-  \n",
    "1. Total number of attacks done in this period in India. Find this count as integer.  \n",
    "2. Which Terrorist group was most active in this period in India. Most active means, group which has done maximum number of attacks.  \n",
    "3. Ignore the Unknown group. "
   ]
  },
  {
   "cell_type": "code",
   "execution_count": 2,
   "id": "aa31263b",
   "metadata": {},
   "outputs": [
    {
     "name": "stdout",
     "output_type": "stream",
     "text": [
      "3336 Maoists\n"
     ]
    }
   ],
   "source": [
    "import pandas as pd\n",
    "\n",
    "df = pd.read_csv('terrorismData.csv')\n",
    "\n",
    "df = df[df['Country'] == \"India\"]\n",
    "df = df[((df['Year'] == 2014) & (df['Month'] == 5) & (df['Day'] >= 26))|((df['Year'] == 2014) & (df['Month'] >= 6))|(df['Year'] > 2014)]\n",
    "\n",
    "group = df['Group'].value_counts()\n",
    "\n",
    "print(sum(group.values), next((i for i in group.index if i != \"Unknown\"), None), end = ' ')"
   ]
  },
  {
   "cell_type": "markdown",
   "id": "8f3372a4",
   "metadata": {},
   "source": [
    "Problem Statement 3:  \n",
    "Find the frequency of the Casualty in Red Corridor states and in Jammu and Kashmir ?Here Frequency is (Total Casualty/Total Number of a year)  \n",
    "Print frequency as integer value.  \n",
    "Note:Red Corridor state includes Jharkhand, Odisha, Andhra Pradesh, and Chhattisgarh. Here Casualty=Killed +Wounded.Don't fill the nan value present in Killed and Wounded feature."
   ]
  },
  {
   "cell_type": "code",
   "execution_count": 3,
   "id": "32f8ead3",
   "metadata": {},
   "outputs": [
    {
     "name": "stdout",
     "output_type": "stream",
     "text": [
      "115 261\n"
     ]
    }
   ],
   "source": [
    "import pandas as pd\n",
    "import pandas as pd\n",
    "\n",
    "df = pd.read_csv('terrorismData.csv')\n",
    "\n",
    "df_state_1 = df[(df['State'] == 'Andhra Pradesh') | (df['State'] == 'Chhattisgarh') | (df['State'] == 'Jharkhand') | (df['State'] == 'Odisha')]\n",
    "df_state_2 = df[df['State'] == 'Jammu and Kashmir']\n",
    "\n",
    "casualty_1 = (df_state_1['Killed']+df_state_1['Wounded']).sum()\n",
    "casualty_2 = (df_state_2['Killed']+df_state_2['Wounded']).sum()\n",
    "\n",
    "Year = df['Year'].value_counts()\n",
    "\n",
    "frequency_1 = casualty_1/len(Year.index)\n",
    "frequency_2 = casualty_2/len(Year.index)\n",
    "\n",
    "print(int(frequency_1), int(frequency_2), end =' ')"
   ]
  },
  {
   "cell_type": "markdown",
   "id": "4f0d4099",
   "metadata": {},
   "source": [
    "Problem Statement 4:  \n",
    "Most Deadliest attack in a history of HumanKind?  \n",
    "Print count of Killed people as integer value.  \n",
    "Note: Here Deadliest attack means, in which the most number of people killed."
   ]
  },
  {
   "cell_type": "code",
   "execution_count": 4,
   "id": "9805c400",
   "metadata": {},
   "outputs": [
    {
     "name": "stdout",
     "output_type": "stream",
     "text": [
      "1570 Iraq Islamic State of Iraq and the Levant (ISIL)\n"
     ]
    }
   ],
   "source": [
    "import pandas as pd\n",
    "\n",
    "df = pd.read_csv('terrorismData.csv')\n",
    "\n",
    "df = df[df['Killed'] == df['Killed'].max()]\n",
    "max_killed = int(df[\"Killed\"].iloc[0])\n",
    "\n",
    "country_max_killed = df[\"Country\"].iloc[0]\n",
    "\n",
    "terrorist_group_max_killed = df[\"Group\"].iloc[0]\n",
    "\n",
    "print(max_killed, country_max_killed, terrorist_group_max_killed, end = ' ')"
   ]
  },
  {
   "cell_type": "markdown",
   "id": "7ba05748",
   "metadata": {},
   "source": [
    "Problem Statement 5:  \n",
    "Find out the Country with Highest Number of Terror Attack and in which year the most number of terrorist attack happened in that country?  \n",
    "Print count of terror attacks as integer value."
   ]
  },
  {
   "cell_type": "code",
   "execution_count": 5,
   "id": "66a5163b",
   "metadata": {},
   "outputs": [
    {
     "name": "stdout",
     "output_type": "stream",
     "text": [
      "Iraq 24636 2014\n"
     ]
    }
   ],
   "source": [
    "import pandas as pd\n",
    "\n",
    "df = pd.read_csv('terrorismData.csv')\n",
    "unique_country= df[\"Country\"].value_counts()\n",
    "\n",
    "df = df[df[\"Country\"] == unique_country.index[0]]\n",
    "unique_year = df[\"Year\"].value_counts()\n",
    "\n",
    "print(unique_country.index[0],unique_country.values[0], unique_year.index[0], end =' ')"
   ]
  }
 ],
 "metadata": {
  "kernelspec": {
   "display_name": "Python 3",
   "language": "python",
   "name": "python3"
  },
  "language_info": {
   "codemirror_mode": {
    "name": "ipython",
    "version": 3
   },
   "file_extension": ".py",
   "mimetype": "text/x-python",
   "name": "python",
   "nbconvert_exporter": "python",
   "pygments_lexer": "ipython3",
   "version": "3.8.8"
  }
 },
 "nbformat": 4,
 "nbformat_minor": 5
}
