{
 "cells": [
  {
   "cell_type": "markdown",
   "id": "5ea23e25",
   "metadata": {},
   "source": [
    "Originally published at [UCI Machine Learning Repository](https://archive.ics.uci.edu/dataset/53/iris), this small dataset from 1936 is often used for testing out machine learning algorithms and visualizations. The Iris dataset is based on Iris flower species. The dataset consists of 50 samples from each of three species of Iris(Iris setosa, Iris virginica and Iris versicolor). In this dataset, 4 features were measured from each sample: the lenghth and the width of the sepals and petals. Each row of the table represents an iris flower, including its species and dimensions of its botanical parts, sepal and petal, in centimeters."
   ]
  },
  {
   "cell_type": "markdown",
   "id": "5e34ffb1",
   "metadata": {},
   "source": [
    "Problem Statement 1:\n",
    "Find and print count of each kind of flower (separated by space)?\n",
    "Note: Get the dataset from [here](https://archive.ics.uci.edu/dataset/53/iris)\n",
    "Print the count as Integer Value."
   ]
  },
  {
   "cell_type": "code",
   "execution_count": null,
   "id": "d312e584",
   "metadata": {},
   "outputs": [],
   "source": []
  },
  {
   "cell_type": "code",
   "execution_count": 4,
   "id": "a878537e",
   "metadata": {},
   "outputs": [
    {
     "name": "stdout",
     "output_type": "stream",
     "text": [
      "50 50 50\n"
     ]
    }
   ],
   "source": [
    "import pandas as pd\n",
    "\n",
    "df = pd.read_csv(\"https://gist.githubusercontent.com/netj/8836201/raw/6f9306ad21398ea43cba4f7d537619d0e07d5ae3/iris.csv\")\n",
    "\n",
    "count = df['variety'].value_counts()\n",
    "\n",
    "print(*count)"
   ]
  },
  {
   "cell_type": "markdown",
   "id": "667193dc",
   "metadata": {},
   "source": [
    "Problem Statement 2:\n",
    "Find the data of flower “Iris-virginica” type where petal-length > 1.5?\n",
    "Note: Get the dataset from [here](https://archive.ics.uci.edu/dataset/53/iris)\n",
    "Print the all the feature values."
   ]
  },
  {
   "cell_type": "code",
   "execution_count": 2,
   "id": "aa31263b",
   "metadata": {},
   "outputs": [
    {
     "name": "stdout",
     "output_type": "stream",
     "text": [
      "6.3 3.3 6.0 2.5 Iris-virginica \n",
      "5.8 2.7 5.1 1.9 Iris-virginica \n",
      "7.1 3.0 5.9 2.1 Iris-virginica \n",
      "6.3 2.9 5.6 1.8 Iris-virginica \n",
      "6.5 3.0 5.8 2.2 Iris-virginica \n",
      "7.6 3.0 6.6 2.1 Iris-virginica \n",
      "4.9 2.5 4.5 1.7 Iris-virginica \n",
      "7.3 2.9 6.3 1.8 Iris-virginica \n",
      "6.7 2.5 5.8 1.8 Iris-virginica \n",
      "7.2 3.6 6.1 2.5 Iris-virginica \n",
      "6.5 3.2 5.1 2.0 Iris-virginica \n",
      "6.4 2.7 5.3 1.9 Iris-virginica \n",
      "6.8 3.0 5.5 2.1 Iris-virginica \n",
      "5.7 2.5 5.0 2.0 Iris-virginica \n",
      "5.8 2.8 5.1 2.4 Iris-virginica \n",
      "6.4 3.2 5.3 2.3 Iris-virginica \n",
      "6.5 3.0 5.5 1.8 Iris-virginica \n",
      "7.7 3.8 6.7 2.2 Iris-virginica \n",
      "7.7 2.6 6.9 2.3 Iris-virginica \n",
      "6.0 2.2 5.0 1.5 Iris-virginica \n",
      "6.9 3.2 5.7 2.3 Iris-virginica \n",
      "5.6 2.8 4.9 2.0 Iris-virginica \n",
      "7.7 2.8 6.7 2.0 Iris-virginica \n",
      "6.3 2.7 4.9 1.8 Iris-virginica \n",
      "6.7 3.3 5.7 2.1 Iris-virginica \n",
      "7.2 3.2 6.0 1.8 Iris-virginica \n",
      "6.2 2.8 4.8 1.8 Iris-virginica \n",
      "6.1 3.0 4.9 1.8 Iris-virginica \n",
      "6.4 2.8 5.6 2.1 Iris-virginica \n",
      "7.2 3.0 5.8 1.6 Iris-virginica \n",
      "7.4 2.8 6.1 1.9 Iris-virginica \n",
      "7.9 3.8 6.4 2.0 Iris-virginica \n",
      "6.4 2.8 5.6 2.2 Iris-virginica \n",
      "6.3 2.8 5.1 1.5 Iris-virginica \n",
      "6.1 2.6 5.6 1.4 Iris-virginica \n",
      "7.7 3.0 6.1 2.3 Iris-virginica \n",
      "6.3 3.4 5.6 2.4 Iris-virginica \n",
      "6.4 3.1 5.5 1.8 Iris-virginica \n",
      "6.0 3.0 4.8 1.8 Iris-virginica \n",
      "6.9 3.1 5.4 2.1 Iris-virginica \n",
      "6.7 3.1 5.6 2.4 Iris-virginica \n",
      "6.9 3.1 5.1 2.3 Iris-virginica \n",
      "5.8 2.7 5.1 1.9 Iris-virginica \n",
      "6.8 3.2 5.9 2.3 Iris-virginica \n",
      "6.7 3.3 5.7 2.5 Iris-virginica \n",
      "6.7 3.0 5.2 2.3 Iris-virginica \n",
      "6.3 2.5 5.0 1.9 Iris-virginica \n",
      "6.5 3.0 5.2 2.0 Iris-virginica \n",
      "6.2 3.4 5.4 2.3 Iris-virginica \n",
      "5.9 3.0 5.1 1.8 Iris-virginica \n"
     ]
    }
   ],
   "source": [
    "import pandas as pd\n",
    "\n",
    "df = pd.read_csv(\"https://files.codingninjas.in/iris-8116.csv\")\n",
    "\n",
    "filtered_df = df[(df['variety'] == 'Iris-virginica') & (df['petal.length'] > 1.5)]\n",
    "\n",
    "for i in filtered_df.values:\n",
    "    for j in i:\n",
    "        print(j, end=\" \")\n",
    "    print()"
   ]
  },
  {
   "cell_type": "markdown",
   "id": "8f3372a4",
   "metadata": {},
   "source": [
    "Problem Statement 3:\n",
    "Find and print the minimum, maximum and average value of the feature for each kind of flower ?\n",
    "Note: Get the dataset from [here](https://archive.ics.uci.edu/dataset/53/iris)\n",
    "Print the value with two decimal places.\n",
    "Note: Order for flower is Iris-setosa, Iris-versicolor and Iris-virginica."
   ]
  },
  {
   "cell_type": "code",
   "execution_count": 3,
   "id": "32f8ead3",
   "metadata": {},
   "outputs": [
    {
     "name": "stdout",
     "output_type": "stream",
     "text": [
      "4.30 2.30 1.00 0.10 Iris-setosa\n",
      "5.80 4.40 1.90 0.60 Iris-setosa\n",
      "5.01 3.42 1.46 0.24 Iris-setosa\n",
      "4.90 2.00 3.00 1.00 Iris-versicolor\n",
      "7.00 3.40 5.10 1.80 Iris-versicolor\n",
      "5.94 2.77 4.26 1.33 Iris-versicolor\n",
      "4.90 2.20 4.50 1.40 Iris-virginica\n",
      "7.90 3.80 6.90 2.50 Iris-virginica\n",
      "6.59 2.97 5.55 2.03 Iris-virginica\n"
     ]
    }
   ],
   "source": [
    "import pandas as pd\n",
    "\n",
    "column_name = ['SepalLength', 'SepalWidth', 'PetalLength', 'PetalWidth', 'variety']\n",
    "\n",
    "df = pd.read_csv('https://archive.ics.uci.edu/ml/machine-learning-databases/iris/iris.data', names=column_name)\n",
    "\n",
    "iris_setosa = df[df['variety'] == 'Iris-setosa'].describe()\n",
    "iris_versicolor = df[df['variety'] == 'Iris-versicolor'].describe()\n",
    "iris_virginica = df[df['variety'] == 'Iris-virginica'].describe()\n",
    "\n",
    "for i in iris_setosa.iloc[[3]].values[0]:\n",
    "    print(format(i, '.2f'), end=\" \")  \n",
    "print('Iris-setosa')\n",
    "\n",
    "for i in iris_setosa.iloc[[7]].values[0]:\n",
    "    print(format(i, '.2f'), end=\" \")\n",
    "print('Iris-setosa')\n",
    "\n",
    "for i in iris_setosa.iloc[[1]].values[0]:\n",
    "    print(format(i, '.2f'), end=\" \")\n",
    "print('Iris-setosa')\n",
    "\n",
    "for i in iris_versicolor.iloc[[3]].values[0]:\n",
    "    print(format(i, '.2f'), end=\" \")\n",
    "print('Iris-versicolor')\n",
    "\n",
    "for i in iris_versicolor.iloc[[7]].values[0]:\n",
    "    print(format(i, '.2f'), end=\" \")\n",
    "print('Iris-versicolor')\n",
    "\n",
    "for i in iris_versicolor.iloc[[1]].values[0]:\n",
    "    print(format(i, '.2f'), end=\" \")\n",
    "print('Iris-versicolor')\n",
    "\n",
    "for i in iris_virginica.iloc[[3]].values[0]:\n",
    "    print(format(i, '.2f'), end=\" \")\n",
    "print('Iris-virginica')\n",
    "\n",
    "for i in iris_virginica.iloc[[7]].values[0]:\n",
    "    print(format(i, '.2f'), end=\" \")\n",
    "print('Iris-virginica')\n",
    "\n",
    "for i in iris_virginica.iloc[[1]].values[0]:\n",
    "    print(format(i, '.2f'), end=\" \")\n",
    "print('Iris-virginica')"
   ]
  }
 ],
 "metadata": {
  "kernelspec": {
   "display_name": "Python 3",
   "language": "python",
   "name": "python3"
  },
  "language_info": {
   "codemirror_mode": {
    "name": "ipython",
    "version": 3
   },
   "file_extension": ".py",
   "mimetype": "text/x-python",
   "name": "python",
   "nbconvert_exporter": "python",
   "pygments_lexer": "ipython3",
   "version": "3.11.4"
  }
 },
 "nbformat": 4,
 "nbformat_minor": 5
}
